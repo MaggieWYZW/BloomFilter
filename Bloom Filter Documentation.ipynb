{
 "cells": [
  {
   "cell_type": "markdown",
   "metadata": {},
   "source": [
    "# Bloom Filter\n",
    "\n",
    "Unlike a set or a dictionary, a Bloom filter doesn't store the string itself, therefore it saves large memory space. However, this also limits its application as we cannot output or delete a string from the filter. Thus, Bloom filter is used only to check if an item exists or not. Some applications of Bloom filter are Chrome, Medium. Where Medium uses it to avoid recommending a user the blogs that he/she has already read. \n",
    "\n",
    "The two key components of a bloom filter is a bit array and hash functions. Simply, the Bloom filter uses hash functions to generate indices of a certain range.  The bits at given indices are set to one indicating if a string is already added. Arbitrary number of hash functions are used based on the size of the problem, as well as the size of the bit array. "
   ]
  },
  {
   "cell_type": "markdown",
   "metadata": {},
   "source": [
    "### How to choose hash functions\n",
    "\n",
    "Some important proprerties of a hash function to be used are:\n",
    "- the hash function needs to be deterministic, meaning that the same input always generates into the same output.\n",
    "- the output of the hash function should be uniformly distributed.\n",
    "- similar inputs should give very different hash results\n",
    "\n",
    "City Hash, Murmur Hash, Spooky Hash"
   ]
  },
  {
   "cell_type": "markdown",
   "metadata": {},
   "source": [
    "### Calculate the size of the filter\n",
    "\n",
    "\\begin{equation}\n",
    "m = - \\frac{n \\log p}{(\\ln 2)^2}\n",
    "\\end{equation}\n",
    "where n is the expected number of items and p is the desired false positive probability.\n",
    "\n",
    "\n",
    "### Calculate the number of hashes in the filter\n",
    "\n",
    "The optimal value for the number of hash functions is:\n",
    "\\begin{equation}\n",
    "k = \\frac{m}{n}\\ln 2 = - \\log_2(p)\n",
    "\\end{equation}\n",
    "where m is the size of the filter.\n",
    "\n",
    "\n",
    "### Approximate the number of items in a Bloom Filter\n",
    "\n",
    "\\begin{equation}\n",
    "n* = -\\frac{m}{k} \\ln [1-\\frac{X}{m}]\n",
    "\\end{equation}\n",
    "\n",
    "where n* is the estimated number of items in the filter, and X is the number of bits set to one.\n"
   ]
  },
  {
   "cell_type": "markdown",
   "metadata": {},
   "source": [
    "## Implementation\n",
    "\n",
    "- Bloom Filter implemeted using Bitarray and murmurhash3 library\n",
    "- Collision happens when the filter size is not big enough for the input list and when the hash values are not separated. This is resolved by computing the optimal filter size according to desired false positive probability and expected number of total items to be stored ahead. Also, the optimal number of hash functions used is computed based on false positave probability given.\n",
    "- There is one assumption made in deceding the size of the filter: the expected number of strings to be stored in the filter equals to the size of the input list of strings. This satisfies the false positive rate using the minimum number of bits. However, in real-life application, the expected number of items stored in the filter is dependent on the problem.\n",
    "- The time complexity of add an item to the filter is constant. Although the actual runtime equals to the number of hash functions used, it is always constant given a desired false positive rate. This is because within the implementation, the number of hash functions used is computed by \n",
    "\\begin{equation}\n",
    "k = - \\log_2(p)\n",
    "\\end{equation}\n",
    "- The time complexity of lookup is also constant, because it also requires hashing the input with the chosen number of hash functions. "
   ]
  },
  {
   "cell_type": "markdown",
   "metadata": {},
   "source": [
    "## Test"
   ]
  },
  {
   "cell_type": "markdown",
   "metadata": {},
   "source": [
    "### 1. Simple list test"
   ]
  },
  {
   "cell_type": "code",
   "execution_count": 1,
   "metadata": {
    "scrolled": false
   },
   "outputs": [
    {
     "name": "stdout",
     "output_type": "stream",
     "text": [
      "================================================== \n",
      "The following lines are the details of the result\n",
      " ================================================== \n",
      "\n",
      "'apple' probabily exists.\n",
      "'cherry' definitely doesn't exists.\n",
      "'train' definitely doesn't exists.\n",
      "'david' definitely doesn't exists.\n",
      "'pineapple' definitely doesn't exists.\n",
      "\n",
      "The size of the Bloom filter is 57 bits, and it is designed for a false positive rate of 0.01\n",
      "\n",
      "\n",
      "The number of strings stored in the filter is: 6\n",
      "\n",
      "The number of strings to be tested is: 5\n",
      "\n",
      "The number of FALSE positives occured: 0\n",
      "\n",
      "The false positive rate for the test strings is: 0.0\n",
      "\n",
      "The number of FALSE Negatives occured: 0\n",
      "\n"
     ]
    },
    {
     "data": {
      "text/plain": [
       "([], [])"
      ]
     },
     "execution_count": 1,
     "metadata": {},
     "output_type": "execute_result"
    }
   ],
   "source": [
    "import BloomFilter\n",
    "import test\n",
    "\n",
    "input_list = ['apple', 'banana', 'pear', 'peach', 'amazon', 'grapes']\n",
    "test_list = ['apple', 'cherry', 'train', 'david', 'pineapple']\n",
    "\n",
    "\n",
    "simpleBF = BloomFilter.simpleBloomFilter(len(input_list), 0.01)\n",
    "test.test_BloomFilter(input_list, test_list, simpleBF)"
   ]
  },
  {
   "cell_type": "markdown",
   "metadata": {},
   "source": [
    "### 2. Long list test\n",
    "A toy example of a spell checker. The 'large_dictionary' contains words to be added into the filter and 'lalaland.txt' contains words to be checked.\n",
    "\n",
    "Note: the data used is from cs50."
   ]
  },
  {
   "cell_type": "code",
   "execution_count": 2,
   "metadata": {},
   "outputs": [
    {
     "name": "stdout",
     "output_type": "stream",
     "text": [
      "Dictionary words count: 143091\n",
      "Text unique words count: 3696\n",
      "Size of the filter: 685767 bits = 85720.875 bytes\n",
      "Desired false positive rate: 0.1\n",
      " =========   Results   ==========\n",
      "The results are saved in file test_result.txt\n",
      "\n",
      "The size of the Bloom filter is 685767 bits, and it is designed for a false positive rate of 0.1\n",
      "\n",
      "\n",
      "The number of strings stored in the filter is: 143091\n",
      "\n",
      "The number of strings to be tested is: 3696\n",
      "\n",
      "The number of FALSE positives occured: 150\n",
      "\n",
      "The false positive rate for the test strings is: 0.040584415584415584\n",
      "\n",
      "The number of FALSE Negatives occured: 0\n",
      "\n"
     ]
    }
   ],
   "source": [
    "import string\n",
    "import BloomFilter\n",
    "import test\n",
    "\n",
    "infile = open('large_dictionary', 'r')\n",
    "dictionary_data = infile.read().splitlines()\n",
    "infile.close()\n",
    "\n",
    "infile = open('lalaland.txt', 'r')\n",
    "test_data = infile.read()\n",
    "table = str.maketrans({key: None for key in string.punctuation})\n",
    "test_data = list(set(test_data.translate(table).split()))\n",
    "\n",
    "print(f\"Dictionary words count: {len(dictionary_data)}\")\n",
    "print(f\"Text unique words count: {len(test_data)}\")\n",
    "\n",
    "filter_size = BloomFilter.simpleBloomFilter.get_size(len(dictionary_data), 0.1)\n",
    "print(f\"Size of the filter: {filter_size} bits = {filter_size/8} bytes\")\n",
    "print(\"Desired false positive rate: 0.1\")\n",
    "print(\" =========   Results   ==========\")\n",
    "fp_prob = 0.1\n",
    "simpleBF = BloomFilter.simpleBloomFilter(len(dictionary_data), fp_prob)\n",
    "fp_list = test.test_BloomFilter(dictionary_data, test_data, simpleBF, WRITE_FILE=True)"
   ]
  }
 ],
 "metadata": {
  "kernelspec": {
   "display_name": "Python 3",
   "language": "python",
   "name": "python3"
  },
  "language_info": {
   "codemirror_mode": {
    "name": "ipython",
    "version": 3
   },
   "file_extension": ".py",
   "mimetype": "text/x-python",
   "name": "python",
   "nbconvert_exporter": "python",
   "pygments_lexer": "ipython3",
   "version": "3.6.5"
  }
 },
 "nbformat": 4,
 "nbformat_minor": 2
}
